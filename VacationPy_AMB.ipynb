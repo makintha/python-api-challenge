{
 "cells": [
  {
   "cell_type": "markdown",
   "metadata": {},
   "source": [
    "# VacationPy\n",
    "----\n",
    "\n",
    "#### Note\n",
    "* Keep an eye on your API usage. Use https://developers.google.com/maps/reporting/gmp-reporting as reference for how to monitor your usage and billing.\n",
    "\n",
    "* Instructions have been included for each segment. You do not have to follow them exactly, but they are included to help you think through the steps."
   ]
  },
  {
   "cell_type": "code",
   "execution_count": 114,
   "metadata": {},
   "outputs": [],
   "source": [
    "# Dependencies and Setup\n",
    "import matplotlib.pyplot as plt\n",
    "import pandas as pd\n",
    "import numpy as np\n",
    "import requests\n",
    "import gmaps\n",
    "import os\n",
    "import json\n",
    "import time\n",
    "\n",
    "# Import API key\n",
    "from config import g_key"
   ]
  },
  {
   "cell_type": "markdown",
   "metadata": {},
   "source": [
    "### Store Part I results into DataFrame\n",
    "* Load the csv exported in Part I to a DataFrame"
   ]
  },
  {
   "cell_type": "code",
   "execution_count": 115,
   "metadata": {},
   "outputs": [
    {
     "output_type": "execute_result",
     "data": {
      "text/plain": [
       "        City Country        Lat         Lng  Max Temp  Humidity  Cloudiness  \\\n",
       "0      ABNUB      EG  27.110222   30.782707     60.80      63.0         0.0   \n",
       "1  CAPE TOWN      ZA -49.105595    4.582316     59.00      94.0         0.0   \n",
       "2   LAWRENCE      US  39.733156  -85.922722     51.01      76.0         1.0   \n",
       "3    ATBASAR      KZ  51.945282   69.158641     46.96      36.0        84.0   \n",
       "4    MATAURA      PF -88.095666 -144.270442     48.00      75.0        34.0   \n",
       "\n",
       "   Wind Speed        Date  \n",
       "0        5.75  25/04/2021  \n",
       "1        4.61  25/04/2021  \n",
       "2        5.95  25/04/2021  \n",
       "3       18.75  25/04/2021  \n",
       "4       10.00  25/04/2021  "
      ],
      "text/html": "<div>\n<style scoped>\n    .dataframe tbody tr th:only-of-type {\n        vertical-align: middle;\n    }\n\n    .dataframe tbody tr th {\n        vertical-align: top;\n    }\n\n    .dataframe thead th {\n        text-align: right;\n    }\n</style>\n<table border=\"1\" class=\"dataframe\">\n  <thead>\n    <tr style=\"text-align: right;\">\n      <th></th>\n      <th>City</th>\n      <th>Country</th>\n      <th>Lat</th>\n      <th>Lng</th>\n      <th>Max Temp</th>\n      <th>Humidity</th>\n      <th>Cloudiness</th>\n      <th>Wind Speed</th>\n      <th>Date</th>\n    </tr>\n  </thead>\n  <tbody>\n    <tr>\n      <th>0</th>\n      <td>ABNUB</td>\n      <td>EG</td>\n      <td>27.110222</td>\n      <td>30.782707</td>\n      <td>60.80</td>\n      <td>63.0</td>\n      <td>0.0</td>\n      <td>5.75</td>\n      <td>25/04/2021</td>\n    </tr>\n    <tr>\n      <th>1</th>\n      <td>CAPE TOWN</td>\n      <td>ZA</td>\n      <td>-49.105595</td>\n      <td>4.582316</td>\n      <td>59.00</td>\n      <td>94.0</td>\n      <td>0.0</td>\n      <td>4.61</td>\n      <td>25/04/2021</td>\n    </tr>\n    <tr>\n      <th>2</th>\n      <td>LAWRENCE</td>\n      <td>US</td>\n      <td>39.733156</td>\n      <td>-85.922722</td>\n      <td>51.01</td>\n      <td>76.0</td>\n      <td>1.0</td>\n      <td>5.95</td>\n      <td>25/04/2021</td>\n    </tr>\n    <tr>\n      <th>3</th>\n      <td>ATBASAR</td>\n      <td>KZ</td>\n      <td>51.945282</td>\n      <td>69.158641</td>\n      <td>46.96</td>\n      <td>36.0</td>\n      <td>84.0</td>\n      <td>18.75</td>\n      <td>25/04/2021</td>\n    </tr>\n    <tr>\n      <th>4</th>\n      <td>MATAURA</td>\n      <td>PF</td>\n      <td>-88.095666</td>\n      <td>-144.270442</td>\n      <td>48.00</td>\n      <td>75.0</td>\n      <td>34.0</td>\n      <td>10.00</td>\n      <td>25/04/2021</td>\n    </tr>\n  </tbody>\n</table>\n</div>"
     },
     "metadata": {},
     "execution_count": 115
    }
   ],
   "source": [
    "weather_df = pd.read_csv('city_weather_data.csv')\n",
    "weather_df.head()"
   ]
  },
  {
   "cell_type": "markdown",
   "metadata": {},
   "source": [
    "### Humidity Heatmap\n",
    "* Configure gmaps.\n",
    "* Use the Lat and Lng as locations and Humidity as the weight.\n",
    "* Add Heatmap layer to map."
   ]
  },
  {
   "cell_type": "code",
   "execution_count": 116,
   "metadata": {},
   "outputs": [],
   "source": [
    "gmaps.configure(api_key=g_key)\n"
   ]
  },
  {
   "cell_type": "code",
   "execution_count": 117,
   "metadata": {},
   "outputs": [],
   "source": [
    "# Store latitude and longitude in locations\n",
    "city_locations = weather_df[[\"Lat\", \"Lng\"]]\n",
    "\n",
    "# Set Humidity as Weight\n",
    "humidity = weather_df[\"Humidity\"].astype(float)"
   ]
  },
  {
   "cell_type": "code",
   "execution_count": 118,
   "metadata": {},
   "outputs": [
    {
     "output_type": "display_data",
     "data": {
      "text/plain": "Figure(layout=FigureLayout(height='420px'))",
      "application/vnd.jupyter.widget-view+json": {
       "version_major": 2,
       "version_minor": 0,
       "model_id": "42237957242f42938e6446e9bf2faba8"
      }
     },
     "metadata": {}
    }
   ],
   "source": [
    "# Map Size\n",
    "figure_layout = {'width': '500px', 'margin': '0 auto 0 auto'}\n",
    "gmaps.figure()\n",
    "# Plot Heatmap\n",
    "fig = gmaps.figure()\n",
    "\n",
    "# Create heat layer\n",
    "heat_layer = gmaps.heatmap_layer(city_locations, weights=humidity, \n",
    "                                 dissipating=False, max_intensity=100,\n",
    "                                 point_radius=3)\n",
    "\n",
    "\n",
    "# Add layer\n",
    "fig.add_layer(heat_layer)\n",
    "\n",
    "# Display figure\n",
    "fig"
   ]
  },
  {
   "cell_type": "markdown",
   "metadata": {},
   "source": [
    "### Create new DataFrame fitting weather criteria\n",
    "* Narrow down the cities to fit weather conditions.\n",
    "* Drop any rows will null values."
   ]
  },
  {
   "cell_type": "code",
   "execution_count": 119,
   "metadata": {},
   "outputs": [
    {
     "output_type": "execute_result",
     "data": {
      "text/plain": [
       "                      City Country        Lat         Lng  Max Temp  Humidity  \\\n",
       "180            SAINT-LOUIS      SN  17.210056  -17.822924     71.60      64.0   \n",
       "381                   ATAR      MR  21.296317  -12.871419     74.70      21.0   \n",
       "434               NARRABRI      AU -30.032765  148.236274     73.99      30.0   \n",
       "447         PORT MACQUARIE      AU -32.334031  159.935068     75.00      57.0   \n",
       "490  VALENTIN GOMEZ FARIAS      MX  27.364481 -106.469258     71.01      16.0   \n",
       "520              DHARCHULA      IN  32.287539   82.128618     77.79      19.0   \n",
       "\n",
       "     Cloudiness  Wind Speed        Date  \n",
       "180         0.0        4.61  25/04/2021  \n",
       "381         0.0        8.19  25/04/2021  \n",
       "434         0.0        8.05  25/04/2021  \n",
       "447         0.0        8.23  25/04/2021  \n",
       "490         0.0        1.61  25/04/2021  \n",
       "520         0.0        3.42  25/04/2021  "
      ],
      "text/html": "<div>\n<style scoped>\n    .dataframe tbody tr th:only-of-type {\n        vertical-align: middle;\n    }\n\n    .dataframe tbody tr th {\n        vertical-align: top;\n    }\n\n    .dataframe thead th {\n        text-align: right;\n    }\n</style>\n<table border=\"1\" class=\"dataframe\">\n  <thead>\n    <tr style=\"text-align: right;\">\n      <th></th>\n      <th>City</th>\n      <th>Country</th>\n      <th>Lat</th>\n      <th>Lng</th>\n      <th>Max Temp</th>\n      <th>Humidity</th>\n      <th>Cloudiness</th>\n      <th>Wind Speed</th>\n      <th>Date</th>\n    </tr>\n  </thead>\n  <tbody>\n    <tr>\n      <th>180</th>\n      <td>SAINT-LOUIS</td>\n      <td>SN</td>\n      <td>17.210056</td>\n      <td>-17.822924</td>\n      <td>71.60</td>\n      <td>64.0</td>\n      <td>0.0</td>\n      <td>4.61</td>\n      <td>25/04/2021</td>\n    </tr>\n    <tr>\n      <th>381</th>\n      <td>ATAR</td>\n      <td>MR</td>\n      <td>21.296317</td>\n      <td>-12.871419</td>\n      <td>74.70</td>\n      <td>21.0</td>\n      <td>0.0</td>\n      <td>8.19</td>\n      <td>25/04/2021</td>\n    </tr>\n    <tr>\n      <th>434</th>\n      <td>NARRABRI</td>\n      <td>AU</td>\n      <td>-30.032765</td>\n      <td>148.236274</td>\n      <td>73.99</td>\n      <td>30.0</td>\n      <td>0.0</td>\n      <td>8.05</td>\n      <td>25/04/2021</td>\n    </tr>\n    <tr>\n      <th>447</th>\n      <td>PORT MACQUARIE</td>\n      <td>AU</td>\n      <td>-32.334031</td>\n      <td>159.935068</td>\n      <td>75.00</td>\n      <td>57.0</td>\n      <td>0.0</td>\n      <td>8.23</td>\n      <td>25/04/2021</td>\n    </tr>\n    <tr>\n      <th>490</th>\n      <td>VALENTIN GOMEZ FARIAS</td>\n      <td>MX</td>\n      <td>27.364481</td>\n      <td>-106.469258</td>\n      <td>71.01</td>\n      <td>16.0</td>\n      <td>0.0</td>\n      <td>1.61</td>\n      <td>25/04/2021</td>\n    </tr>\n    <tr>\n      <th>520</th>\n      <td>DHARCHULA</td>\n      <td>IN</td>\n      <td>32.287539</td>\n      <td>82.128618</td>\n      <td>77.79</td>\n      <td>19.0</td>\n      <td>0.0</td>\n      <td>3.42</td>\n      <td>25/04/2021</td>\n    </tr>\n  </tbody>\n</table>\n</div>"
     },
     "metadata": {},
     "execution_count": 119
    }
   ],
   "source": [
    "# Narrowdown based on preffered weather\n",
    "\n",
    "temp = weather_df[(weather_df['Max Temp'] > 70) & (weather_df['Max Temp'] < 80)]\n",
    "# Narrowdown wind speed\n",
    "speed = temp[temp['Wind Speed'] < 10]\n",
    "\n",
    "# Narrowdown Cloudiness\n",
    "cloud = speed[speed['Cloudiness'] == 0]\n",
    "cloud\n",
    "\n",
    "# Narrowdown humidity\n",
    "dest_df = cloud[cloud['Humidity'] < 80]\n",
    "dest_df"
   ]
  },
  {
   "cell_type": "markdown",
   "metadata": {},
   "source": [
    "### Hotel Map\n",
    "* Store into variable named `hotel_df`.\n",
    "* Add a \"Hotel Name\" column to the DataFrame.\n",
    "* Set parameters to search for hotels with 5000 meters.\n",
    "* Hit the Google Places API for each city's coordinates.\n",
    "* Store the first Hotel result into the DataFrame.\n",
    "* Plot markers on top of the heatmap."
   ]
  },
  {
   "cell_type": "code",
   "execution_count": 120,
   "metadata": {},
   "outputs": [
    {
     "output_type": "stream",
     "name": "stdout",
     "text": [
      "Processing Record 1 of 6 | SAINT-LOUIS\n",
      "Processing Record 2 of 6 | ATAR\n",
      "Processing Record 3 of 6 | NARRABRI\n",
      "Processing Record 4 of 6 | PORT MACQUARIE\n",
      "Processing Record 5 of 6 | VALENTIN GOMEZ FARIAS\n",
      "Processing Record 6 of 6 | DHARCHULA\n"
     ]
    }
   ],
   "source": [
    "# Create new df to convert actual coordinate of the cities. \n",
    "hotel_df = dest_df[['City', 'Country']]\n",
    "hotel_df = hotel_df.reset_index(drop = True)\n",
    "\n",
    "# Generate empty column for new lat and long and hotel\n",
    "hotel_df['Lat'] = \"\"\n",
    "hotel_df['Lng'] = \"\"\n",
    "hotel_df['Hotel Name'] =\"\"\n",
    "hotel_df\n",
    "for index, row in hotel_df.iterrows():\n",
    "    city = row['City']\n",
    "    country = row['Country']\n",
    "\n",
    "    target_city = (f'{city}, {country}')\n",
    "    target_url = ('https://maps.googleapis.com/maps/api/geocode/json?'\n",
    "    'address={0}&key={1}').format(target_city, g_key)\n",
    "\n",
    "    geo_data = requests.get(target_url).json()\n",
    "    print(f'Processing Record {index+1} of {len(hotel_df)} | {city}')\n",
    "\n",
    "    hotel_df.at[index, 'Lat'] = geo_data['results'][0]['geometry']['location']['lat']\n",
    "    hotel_df.at[index, 'Lng'] = geo_data['results'][0]['geometry']['location']['lng']\n"
   ]
  },
  {
   "cell_type": "code",
   "execution_count": 121,
   "metadata": {},
   "outputs": [
    {
     "output_type": "execute_result",
     "data": {
      "text/plain": [
       "                    City Country      Lat      Lng Hotel Name\n",
       "0            SAINT-LOUIS      SN  16.0326 -16.4818           \n",
       "1                   ATAR      MR  20.5073  -13.053           \n",
       "2               NARRABRI      AU -30.3324  149.781           \n",
       "3         PORT MACQUARIE      AU -31.4333    152.9           \n",
       "4  VALENTIN GOMEZ FARIAS      MX  29.3613 -107.734           \n",
       "5              DHARCHULA      IN  29.8473  80.5369           "
      ],
      "text/html": "<div>\n<style scoped>\n    .dataframe tbody tr th:only-of-type {\n        vertical-align: middle;\n    }\n\n    .dataframe tbody tr th {\n        vertical-align: top;\n    }\n\n    .dataframe thead th {\n        text-align: right;\n    }\n</style>\n<table border=\"1\" class=\"dataframe\">\n  <thead>\n    <tr style=\"text-align: right;\">\n      <th></th>\n      <th>City</th>\n      <th>Country</th>\n      <th>Lat</th>\n      <th>Lng</th>\n      <th>Hotel Name</th>\n    </tr>\n  </thead>\n  <tbody>\n    <tr>\n      <th>0</th>\n      <td>SAINT-LOUIS</td>\n      <td>SN</td>\n      <td>16.0326</td>\n      <td>-16.4818</td>\n      <td></td>\n    </tr>\n    <tr>\n      <th>1</th>\n      <td>ATAR</td>\n      <td>MR</td>\n      <td>20.5073</td>\n      <td>-13.053</td>\n      <td></td>\n    </tr>\n    <tr>\n      <th>2</th>\n      <td>NARRABRI</td>\n      <td>AU</td>\n      <td>-30.3324</td>\n      <td>149.781</td>\n      <td></td>\n    </tr>\n    <tr>\n      <th>3</th>\n      <td>PORT MACQUARIE</td>\n      <td>AU</td>\n      <td>-31.4333</td>\n      <td>152.9</td>\n      <td></td>\n    </tr>\n    <tr>\n      <th>4</th>\n      <td>VALENTIN GOMEZ FARIAS</td>\n      <td>MX</td>\n      <td>29.3613</td>\n      <td>-107.734</td>\n      <td></td>\n    </tr>\n    <tr>\n      <th>5</th>\n      <td>DHARCHULA</td>\n      <td>IN</td>\n      <td>29.8473</td>\n      <td>80.5369</td>\n      <td></td>\n    </tr>\n  </tbody>\n</table>\n</div>"
     },
     "metadata": {},
     "execution_count": 121
    }
   ],
   "source": [
    "hotel_df"
   ]
  },
  {
   "cell_type": "code",
   "execution_count": 123,
   "metadata": {
    "tags": []
   },
   "outputs": [
    {
     "output_type": "stream",
     "name": "stdout",
     "text": [
      "Retrieving Results for Index 0: SAINT-LOUIS.\n",
      "Auberge de Jeunesse du Sud\n",
      "------------\n",
      "Retrieving Results for Index 1: ATAR.\n",
      "Oumou Elghoura\n",
      "------------\n",
      "Retrieving Results for Index 2: NARRABRI.\n",
      "Crossroads Hotel\n",
      "------------\n",
      "Retrieving Results for Index 3: PORT MACQUARIE.\n",
      "Rydges Port Macquarie\n",
      "------------\n",
      "Retrieving Results for Index 4: VALENTIN GOMEZ FARIAS.\n",
      "Hotel Victoria\n",
      "------------\n",
      "Retrieving Results for Index 5: DHARCHULA.\n",
      "Mahara Hotel\n",
      "------------\n"
     ]
    }
   ],
   "source": [
    "# use iterrows to iterate through pandas dataframe\n",
    "for index, row in hotel_df.iterrows():\n",
    "    base_url = \"https://maps.googleapis.com/maps/api/place/nearbysearch/json\"\n",
    "    lat=row['Lat']\n",
    "    lng=row['Lng']\n",
    "    params = {\n",
    "        \"location\": f\"{lat},{lng}\",  \n",
    "        # \"rankby\": \"distance\",\n",
    "        \"radius\": \"5000\",\n",
    "        \"type\": \"lodging\",\n",
    "        \"key\": g_key,\n",
    "        \"rating\": 4,\n",
    "        \"max price\": 3,\n",
    "    }\n",
    "\n",
    "    # assemble url and make API request\n",
    "    print(f\"Retrieving Results for Index {index}: {row['City']}.\")\n",
    "    response = requests.get(base_url, params=params).json()\n",
    "    \n",
    "    \n",
    "    try:\n",
    "        hotel_df.at[index, 'Hotel Name'] = response['results'][0]['name']\n",
    "        print(response['results'][0]['name'])\n",
    "    except (KeyError, IndexError):\n",
    "        print(\"Missing field/result... skipping.\")\n",
    "        \n",
    "    print(\"------------\")\n"
   ]
  },
  {
   "cell_type": "code",
   "execution_count": 124,
   "metadata": {},
   "outputs": [
    {
     "output_type": "execute_result",
     "data": {
      "text/plain": [
       "                    City Country      Lat      Lng                  Hotel Name\n",
       "0            SAINT-LOUIS      SN  16.0326 -16.4818  Auberge de Jeunesse du Sud\n",
       "1                   ATAR      MR  20.5073  -13.053              Oumou Elghoura\n",
       "2               NARRABRI      AU -30.3324  149.781            Crossroads Hotel\n",
       "3         PORT MACQUARIE      AU -31.4333    152.9       Rydges Port Macquarie\n",
       "4  VALENTIN GOMEZ FARIAS      MX  29.3613 -107.734              Hotel Victoria\n",
       "5              DHARCHULA      IN  29.8473  80.5369                Mahara Hotel"
      ],
      "text/html": "<div>\n<style scoped>\n    .dataframe tbody tr th:only-of-type {\n        vertical-align: middle;\n    }\n\n    .dataframe tbody tr th {\n        vertical-align: top;\n    }\n\n    .dataframe thead th {\n        text-align: right;\n    }\n</style>\n<table border=\"1\" class=\"dataframe\">\n  <thead>\n    <tr style=\"text-align: right;\">\n      <th></th>\n      <th>City</th>\n      <th>Country</th>\n      <th>Lat</th>\n      <th>Lng</th>\n      <th>Hotel Name</th>\n    </tr>\n  </thead>\n  <tbody>\n    <tr>\n      <th>0</th>\n      <td>SAINT-LOUIS</td>\n      <td>SN</td>\n      <td>16.0326</td>\n      <td>-16.4818</td>\n      <td>Auberge de Jeunesse du Sud</td>\n    </tr>\n    <tr>\n      <th>1</th>\n      <td>ATAR</td>\n      <td>MR</td>\n      <td>20.5073</td>\n      <td>-13.053</td>\n      <td>Oumou Elghoura</td>\n    </tr>\n    <tr>\n      <th>2</th>\n      <td>NARRABRI</td>\n      <td>AU</td>\n      <td>-30.3324</td>\n      <td>149.781</td>\n      <td>Crossroads Hotel</td>\n    </tr>\n    <tr>\n      <th>3</th>\n      <td>PORT MACQUARIE</td>\n      <td>AU</td>\n      <td>-31.4333</td>\n      <td>152.9</td>\n      <td>Rydges Port Macquarie</td>\n    </tr>\n    <tr>\n      <th>4</th>\n      <td>VALENTIN GOMEZ FARIAS</td>\n      <td>MX</td>\n      <td>29.3613</td>\n      <td>-107.734</td>\n      <td>Hotel Victoria</td>\n    </tr>\n    <tr>\n      <th>5</th>\n      <td>DHARCHULA</td>\n      <td>IN</td>\n      <td>29.8473</td>\n      <td>80.5369</td>\n      <td>Mahara Hotel</td>\n    </tr>\n  </tbody>\n</table>\n</div>"
     },
     "metadata": {},
     "execution_count": 124
    }
   ],
   "source": [
    "hotel_df"
   ]
  },
  {
   "cell_type": "code",
   "execution_count": 125,
   "metadata": {},
   "outputs": [],
   "source": [
    "# NOTE: Do not change any of the code in this cell\n",
    "\n",
    "# Using the template add the hotel marks to the heatmap\n",
    "info_box_template = \"\"\"\n",
    "<dl>\n",
    "<dt>Name</dt><dd>{Hotel Name}</dd>\n",
    "<dt>City</dt><dd>{City}</dd>\n",
    "<dt>Country</dt><dd>{Country}</dd>\n",
    "</dl>\n",
    "\"\"\"\n",
    "# Store the DataFrame Row\n",
    "# NOTE: be sure to update with your DataFrame name\n",
    "hotel_info = [info_box_template.format(**row) for index, row in hotel_df.iterrows()]\n",
    "locations = hotel_df[[\"Lat\", \"Lng\"]]"
   ]
  },
  {
   "cell_type": "code",
   "execution_count": 127,
   "metadata": {},
   "outputs": [
    {
     "output_type": "display_data",
     "data": {
      "text/plain": "Figure(layout=FigureLayout(height='420px'))",
      "application/vnd.jupyter.widget-view+json": {
       "version_major": 2,
       "version_minor": 0,
       "model_id": "f752e66142ab44fbb2e53dede771f296"
      }
     },
     "metadata": {}
    }
   ],
   "source": [
    "# Add marker layer ontop of heat map\n",
    "fig = gmaps.figure()\n",
    "markers = gmaps.marker_layer(locations, info_box_content = hotel_info)\n",
    "fig.add_layer(markers)\n",
    "fig.add_layer(heat_layer)\n",
    "\n",
    "# Display figure\n",
    "fig"
   ]
  }
 ],
 "metadata": {
  "kernelspec": {
   "name": "python383jvsc74a57bd051d3291f5ceb888cf1faadfa41614c22458ba4c049584f6a0b84510c56f587e2",
   "display_name": "Python 3.8.3 64-bit (conda)"
  },
  "language_info": {
   "codemirror_mode": {
    "name": "ipython",
    "version": 3
   },
   "file_extension": ".py",
   "mimetype": "text/x-python",
   "name": "python",
   "nbconvert_exporter": "python",
   "pygments_lexer": "ipython3",
   "version": "3.8.3"
  },
  "latex_envs": {
   "LaTeX_envs_menu_present": true,
   "autoclose": false,
   "autocomplete": true,
   "bibliofile": "biblio.bib",
   "cite_by": "apalike",
   "current_citInitial": 1,
   "eqLabelWithNumbers": true,
   "eqNumInitial": 1,
   "hotkeys": {
    "equation": "Ctrl-E",
    "itemize": "Ctrl-I"
   },
   "labels_anchors": false,
   "latex_user_defs": false,
   "report_style_numbering": false,
   "user_envs_cfg": false
  }
 },
 "nbformat": 4,
 "nbformat_minor": 4
}